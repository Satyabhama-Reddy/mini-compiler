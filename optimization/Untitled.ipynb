{
 "cells": [
  {
   "cell_type": "code",
   "execution_count": 77,
   "metadata": {},
   "outputs": [
    {
     "name": "stdout",
     "output_type": "stream",
     "text": [
      "main:\n",
      "int a\n",
      "int b\n",
      "int c\n",
      "BEGIN1 :\n",
      "t1 = a > b\n",
      "ifFalse t1 goto END1\n",
      "t2 = b > c\n",
      "ifFalse t2 goto END1\n",
      "t3 = b > c\n",
      "ifFalse t3 goto END1\n",
      "L1 :\n",
      "a = 100\n",
      "BEGIN2 :\n",
      "t4 = b > a\n",
      "ifFalse t4 goto END2\n",
      "L2 :\n",
      "t5=a\n",
      "t6 = a + 1\n",
      "a=t6\n",
      "a=n[3]\n",
      "goto BEGIN2\n",
      "END2 :\n",
      "b = 100\n",
      "goto BEGIN1\n",
      "END1 :\n",
      "c = 100\n",
      "next :\n"
     ]
    }
   ],
   "source": [
    "lines=[]\n",
    "with open(\"../IO/icg.txt\") as f:\n",
    "    c=f.readline()\n",
    "    while(c):\n",
    "        lines.append((c.split('\\n')[0]).strip())\n",
    "        c=f.readline()\n",
    "f=lines\n",
    "for i in lines:\n",
    "    print(i)\n",
    "    "
   ]
  },
  {
   "cell_type": "code",
   "execution_count": 94,
   "metadata": {
    "collapsed": true
   },
   "outputs": [],
   "source": [
    "table = []\n",
    "#f = []\n",
    "# while True:\n",
    "# \ttry:\n",
    "# \t\tf.append(input())\n",
    "# \texcept:\n",
    "# \t\tbreak\n",
    "\n",
    "for line in f:\n",
    "    if(\"=\" in line):\n",
    "        lst = [x.strip() for x in line.split(\"=\")]\n",
    "        lst1 = lst[1].split(\" \")\n",
    "        if(len(lst1)==1):\n",
    "            table.append([\"=\",lst1[0],None,lst[0]])\n",
    "        if(len(lst1)==3):\n",
    "            table.append([lst1[1],lst1[0],lst1[2],lst[0]])\n",
    "        if(\"[\" in lst[1]):\n",
    "            l1=lst[1].split(\"[\")\n",
    "            l2=l1[1].split(\"]\")[0]\n",
    "            lst1 = [l1[0],\"=[]\",l2]\n",
    "            table.append([\"=[]\",l1[0],l2,lst[0]])\n",
    "        #print(lst[0],lst1)\n",
    "        \n",
    "    elif(\"if\" in line):\n",
    "        lst = line.split(\" \")\n",
    "        #value = table[lst[1]]\n",
    "        #output = str(lst[0]) + \" \" + str(value) + \" \" + \" \".join(lst[2:])\n",
    "        #print(output)\n",
    "        print(end=\"\")\n",
    "    elif(\"print\" in line):\n",
    "        #print (line)\n",
    "        print(end=\"\")\n",
    "    elif(\"goto\" in line):\n",
    "        #print(line)\n",
    "        print(end=\"\")\n",
    "    elif(\":\" in line):\n",
    "        #print(line)\n",
    "        print(end=\"\")"
   ]
  },
  {
   "cell_type": "code",
   "execution_count": 95,
   "metadata": {},
   "outputs": [
    {
     "name": "stdout",
     "output_type": "stream",
     "text": [
      "['>', 'a', 'b', 't1']\n",
      "['>', 'b', 'c', 't2']\n",
      "['>', 'b', 'c', 't3']\n",
      "['=', '100', None, 'a']\n",
      "['>', 'b', 'a', 't4']\n",
      "['=', 'a', None, 't5']\n",
      "['+', 'a', '1', 't6']\n",
      "['=', 't6', None, 'a']\n",
      "['=', 'n[3]', None, 'a']\n",
      "['=[]', 'n', '3', 'a']\n",
      "['=', '100', None, 'b']\n",
      "['=', '100', None, 'c']\n"
     ]
    }
   ],
   "source": [
    "for i in table:\n",
    "    print(i)"
   ]
  },
  {
   "cell_type": "code",
   "execution_count": 86,
   "metadata": {},
   "outputs": [
    {
     "data": {
      "text/plain": [
       "True"
      ]
     },
     "execution_count": 86,
     "metadata": {},
     "output_type": "execute_result"
    }
   ],
   "source": []
  },
  {
   "cell_type": "code",
   "execution_count": null,
   "metadata": {
    "collapsed": true
   },
   "outputs": [],
   "source": []
  }
 ],
 "metadata": {
  "kernelspec": {
   "display_name": "Python 3",
   "language": "python",
   "name": "python3"
  },
  "language_info": {
   "codemirror_mode": {
    "name": "ipython",
    "version": 3
   },
   "file_extension": ".py",
   "mimetype": "text/x-python",
   "name": "python",
   "nbconvert_exporter": "python",
   "pygments_lexer": "ipython3",
   "version": "3.6.7"
  }
 },
 "nbformat": 4,
 "nbformat_minor": 2
}
